{
 "cells": [
  {
   "cell_type": "markdown",
   "metadata": {
    "pycharm": {
     "name": "#%% md\n"
    }
   },
   "source": [
    "# Gekitai with Reiforcement Lerning\n",
    "\n",
    "## Introduction\n",
    "\n",
    "- This notebook will walk through the various stages of the implementation of a custom [OpenAI gym](https://www.gymlibrary.ml) for the gekitai game.\n",
    "\n",
    "- The gekitai rules are available [here](https://boardgamegeek.com/boardgame/295449/gekitai)\n",
    "\n",
    "## Contributors\n",
    "\n",
    "- [João Sousa](mailto:up201904739@edu.fc.up.pt)\n",
    "- [Miguel Rodrigues](mailto:up201906042@edu.fe.up.pt)\n",
    "- [Ricardo Ferreira](mailto:up201907835@edu.fe.up.pt)"
   ]
  },
  {
   "cell_type": "code",
   "execution_count": 1,
   "metadata": {
    "scrolled": true
   },
   "outputs": [
    {
     "name": "stderr",
     "output_type": "stream",
     "text": [
      "/home/mike/.local/share/virtualenvs/gekitai-rl-BY1jBlDD/lib/python3.10/site-packages/gym/wrappers/monitoring/video_recorder.py:9: DeprecationWarning: The distutils package is deprecated and slated for removal in Python 3.12. Use setuptools or check PEP 632 for potential alternatives\n",
      "  import distutils.spawn\n"
     ]
    }
   ],
   "source": [
    "import numpy as np\n",
    "import gym\n",
    "import gekitai"
   ]
  },
  {
   "cell_type": "code",
   "execution_count": 2,
   "metadata": {
    "scrolled": true
   },
   "outputs": [],
   "source": [
    "# Checking if the developed gym follows the specification of the OpenAI gym\n",
    "from gym.utils.env_checker import check_env\n",
    "\n",
    "env = gym.make('gekitai-v0')\n",
    "check_env(env)"
   ]
  },
  {
   "cell_type": "code",
   "execution_count": 4,
   "metadata": {
    "scrolled": true
   },
   "outputs": [
    {
     "name": "stdout",
     "output_type": "stream",
     "text": [
      "{'over': 'Player 1 won by placing all of their markers', 'reward': 6.0}\n",
      "{'over': 'Player 1 won by placing all of their markers', 'reward': 13.0}\n",
      "{'over': 'Player 1 won by placing at least 3 adjacent markers', 'reward': 1.0}\n",
      "{'over': 'Player 2 won by placing all of their markers', 'reward': -11.0}\n",
      "{'over': 'Player 1 won by placing at least 3 adjacent markers', 'reward': 1.0}\n",
      "{'over': 'Player 1 won by placing all of their markers', 'reward': 4.0}\n",
      "{'over': 'Player 1 won by placing all of their markers', 'reward': 8.0}\n",
      "{'over': 'Player 2 won by placing at least 3 adjacent markers', 'reward': 3.0}\n",
      "{'over': 'Player 2 won by placing at least 3 adjacent markers', 'reward': -7.0}\n",
      "{'over': 'Player 1 won by placing at least 3 adjacent markers', 'reward': 0.0}\n",
      "{'over': 'Player 1 won by placing all of their markers', 'reward': 10.0}\n",
      "{'over': 'Player 1 won by placing all of their markers', 'reward': 10.0}\n",
      "{'over': 'Player 1 won by placing all of their markers', 'reward': 9.0}\n",
      "{'over': 'Player 1 won by placing all of their markers', 'reward': 10.0}\n",
      "{'over': 'Player 1 won by placing at least 3 adjacent markers', 'reward': 3.0}\n",
      "{'over': 'Player 1 won by placing at least 3 adjacent markers', 'reward': 2.0}\n",
      "{'over': 'Player 2 won by placing at least 3 adjacent markers', 'reward': -1.0}\n",
      "{'over': 'Player 1 won by placing all of their markers', 'reward': 6.0}\n",
      "{'over': 'Player 1 won by placing all of their markers', 'reward': 8.0}\n",
      "{'over': 'Player 2 won by placing all of their markers', 'reward': -7.0}\n",
      "{'over': 'Player 1 won by placing all of their markers', 'reward': 3.0}\n",
      "{'over': 'Player 2 won by placing at least 3 adjacent markers', 'reward': -7.0}\n",
      "{'over': 'Player 2 won by placing at least 3 adjacent markers', 'reward': 3.0}\n",
      "{'over': 'Player 2 won by placing at least 3 adjacent markers', 'reward': -4.0}\n",
      "{'over': 'Player 1 won by placing at least 3 adjacent markers', 'reward': 6.0}\n",
      "{'over': 'Player 2 won by placing at least 3 adjacent markers', 'reward': -7.0}\n",
      "{'over': 'Player 1 won by placing at least 3 adjacent markers', 'reward': -7.0}\n",
      "{'over': 'Player 2 won by placing all of their markers', 'reward': -4.0}\n",
      "{'over': 'Player 1 won by placing all of their markers', 'reward': 7.0}\n",
      "{'over': 'Player 1 won by placing all of their markers', 'reward': 6.0}\n",
      "{'over': 'Player 1 won by placing at least 3 adjacent markers', 'reward': 3.0}\n",
      "{'over': 'Player 2 won by placing all of their markers', 'reward': -8.0}\n",
      "{'over': 'Player 2 won by placing all of their markers', 'reward': -8.0}\n",
      "{'over': 'Player 2 won by placing at least 3 adjacent markers', 'reward': 0.0}\n",
      "{'over': 'Player 2 won by placing at least 3 adjacent markers', 'reward': -4.0}\n",
      "{'over': 'Player 2 won by placing all of their markers', 'reward': -4.0}\n",
      "{'over': 'Player 1 won by placing all of their markers', 'reward': 7.0}\n",
      "{'over': 'Player 2 won by placing all of their markers', 'reward': -5.0}\n",
      "{'over': 'Player 1 won by placing at least 3 adjacent markers', 'reward': 4.0}\n",
      "{'over': 'Player 1 won by placing all of their markers', 'reward': 5.0}\n",
      "{'over': 'Player 2 won by placing all of their markers', 'reward': -5.0}\n",
      "{'over': 'Player 1 won by placing all of their markers', 'reward': 5.0}\n",
      "{'over': 'Player 1 won by placing at least 3 adjacent markers', 'reward': 5.0}\n",
      "{'over': 'Player 2 won by placing at least 3 adjacent markers', 'reward': 1.0}\n",
      "{'over': 'Player 1 won by placing at least 3 adjacent markers', 'reward': -1.0}\n",
      "{'over': 'Player 2 won by placing all of their markers', 'reward': -9.0}\n"
     ]
    }
   ],
   "source": [
    "env = gym.make('gekitai-v0', render_mode='human', size=5)\n",
    "obs = env.reset(return_info=True)\n",
    "\n",
    "for _ in range(1000):\n",
    "    action = env.action_space.sample()\n",
    "    obs, reward, done, info = env.step(action)\n",
    "    \n",
    "    env.render(mode='human')\n",
    "    \n",
    "    if done:\n",
    "        print(info)\n",
    "        obs = env.reset(return_info=True)\n",
    "    \n",
    "env.close()"
   ]
  },
  {
   "cell_type": "markdown",
   "metadata": {},
   "source": [
    "## Algorithms\n",
    "\n",
    "The next section presents us with the implementation of the different RL algorithms.\n",
    "In this notebook we will use 2 of the recomended algorithms in the assignment:\n",
    "\n",
    "- [Q-learning](https://en.wikipedia.org/wiki/Q-learning)\n",
    "- [SARSA](https://en.wikipedia.org/wiki/State%E2%80%93action%E2%80%93reward%E2%80%93state%E2%80%93action)\n",
    "\n",
    "One other important note to consider is the fact that our `action_space` and our `observation_space` (also known as state space) are both discrete.\n",
    "This means that not all of the described algorithms in the assigment are suitable for this particular case."
   ]
  },
  {
   "cell_type": "markdown",
   "metadata": {},
   "source": [
    "### Q-learning"
   ]
  },
  {
   "cell_type": "code",
   "execution_count": 18,
   "metadata": {},
   "outputs": [
    {
     "data": {
      "text/plain": [
       "(5, 5)"
      ]
     },
     "execution_count": 18,
     "metadata": {},
     "output_type": "execute_result"
    }
   ],
   "source": [
    "action_size = env.action_space.n\n",
    "state_size = env.observation_space.shape\n",
    "\n",
    "\n",
    "# qtable = np.zeros(shape=(state_size, action_size))"
   ]
  },
  {
   "cell_type": "code",
   "execution_count": null,
   "metadata": {},
   "outputs": [],
   "source": [
    "# Q-learning hyper-parameters\n",
    "\n",
    "total_episodes = 100\n",
    "max_steps_per_episode = 99\n",
    "learning_rate = 0.8\n",
    "gamma = 0.95\n"
   ]
  }
 ],
 "metadata": {
  "kernelspec": {
   "display_name": "Python 3 (ipykernel)",
   "language": "python",
   "name": "python3"
  },
  "language_info": {
   "codemirror_mode": {
    "name": "ipython",
    "version": 3
   },
   "file_extension": ".py",
   "mimetype": "text/x-python",
   "name": "python",
   "nbconvert_exporter": "python",
   "pygments_lexer": "ipython3",
   "version": "3.10.4"
  }
 },
 "nbformat": 4,
 "nbformat_minor": 1
}